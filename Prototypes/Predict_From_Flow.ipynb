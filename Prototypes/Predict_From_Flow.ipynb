{
 "cells": [
  {
   "cell_type": "code",
   "execution_count": 2,
   "id": "bc666e30-7287-43e7-baaa-d41ff63c51c2",
   "metadata": {},
   "outputs": [],
   "source": [
    "import numpy as np\n",
    "from tensorflow import keras\n",
    "import tensorflow as tf\n",
    "import pandas as pd\n",
    "from sklearn.model_selection import train_test_split\n",
    "from sklearn import metrics\n",
    "from tensorflow.keras.models import Sequential, load_model\n",
    "from tensorflow.keras.layers import Dense\n",
    "from sklearn.metrics import accuracy_score\n",
    "from sklearn import preprocessing\n",
    "from sklearn.preprocessing import MinMaxScaler\n",
    "import os"
   ]
  },
  {
   "cell_type": "code",
   "execution_count": 82,
   "id": "ca62fbda-66e8-48d8-ac0e-fac821b2501d",
   "metadata": {},
   "outputs": [],
   "source": [
    "df = pd.DataFrame()\n",
    "csv_files = []"
   ]
  },
  {
   "cell_type": "code",
   "execution_count": 83,
   "id": "7f1d8d6e-6b86-4660-9087-5622bf8be856",
   "metadata": {},
   "outputs": [],
   "source": [
    "for file in os.listdir('TCPDUMP_and_CICFlowMeter-master/csv'):\n",
    "    if file.endswith('.csv'):\n",
    "        csv_files.append(pd.read_csv('TCPDUMP_and_CICFlowMeter-master/csv/' + file))\n",
    "        \n",
    "df = pd.concat(csv_files)"
   ]
  },
  {
   "cell_type": "code",
   "execution_count": 84,
   "id": "4a3198ed-1d3c-4edd-8ecc-ebaaabde6c7f",
   "metadata": {},
   "outputs": [],
   "source": [
    "df = df[df[\"Flow ID\"].str.contains(\"Flow ID\") == False]"
   ]
  },
  {
   "cell_type": "code",
   "execution_count": 22,
   "id": "56aa1046-eec9-4996-921c-05f2e5131b30",
   "metadata": {},
   "outputs": [],
   "source": [
    "# df.to_csv('my.csv')"
   ]
  },
  {
   "cell_type": "code",
   "execution_count": 85,
   "id": "fe8fb131-128a-41d3-a8b2-d5f62bbf6252",
   "metadata": {},
   "outputs": [],
   "source": [
    "pd.set_option('use_inf_as_na',True)\n",
    "df.dropna(inplace=True)"
   ]
  },
  {
   "cell_type": "code",
   "execution_count": 28,
   "id": "f7815fb2-5d7f-41ad-a16a-9d51bb86df67",
   "metadata": {},
   "outputs": [],
   "source": [
    "finalDf = pd.read_csv('TrainingSetFinal.csv')"
   ]
  },
  {
   "cell_type": "code",
   "execution_count": 100,
   "id": "107fe951-0ecd-45ce-81b4-31b619c1edec",
   "metadata": {},
   "outputs": [
    {
     "name": "stdout",
     "output_type": "stream",
     "text": [
      "['Unnamed: 0' 'Dst Port' 'Flow Duration' 'Tot Fwd Pkts' 'Tot Bwd Pkts'\n",
      " 'TotLen Fwd Pkts' 'TotLen Bwd Pkts' 'Fwd Pkt Len Max' 'Fwd Pkt Len Min'\n",
      " 'Fwd Pkt Len Mean' 'Fwd Pkt Len Std' 'Bwd Pkt Len Max' 'Bwd Pkt Len Min'\n",
      " 'Bwd Pkt Len Mean' 'Bwd Pkt Len Std' 'Flow Byts/s' 'Flow Pkts/s'\n",
      " 'Flow IAT Mean' 'Flow IAT Std' 'Flow IAT Max' 'Flow IAT Min'\n",
      " 'Fwd IAT Tot' 'Fwd IAT Mean' 'Fwd IAT Std' 'Fwd IAT Max' 'Fwd IAT Min'\n",
      " 'Bwd IAT Tot' 'Bwd IAT Mean' 'Bwd IAT Std' 'Bwd IAT Max' 'Bwd IAT Min'\n",
      " 'Fwd PSH Flags' 'Bwd PSH Flags' 'Fwd URG Flags' 'Bwd URG Flags'\n",
      " 'Fwd Header Len' 'Bwd Header Len' 'Fwd Pkts/s' 'Bwd Pkts/s' 'Pkt Len Min'\n",
      " 'Pkt Len Max' 'Pkt Len Mean' 'Pkt Len Std' 'Pkt Len Var' 'FIN Flag Cnt'\n",
      " 'SYN Flag Cnt' 'RST Flag Cnt' 'PSH Flag Cnt' 'ACK Flag Cnt'\n",
      " 'URG Flag Cnt' 'CWE Flag Count' 'ECE Flag Cnt' 'Down/Up Ratio'\n",
      " 'Pkt Size Avg' 'Fwd Seg Size Avg' 'Bwd Seg Size Avg'\n",
      " ' Fwd Header Length.1' 'Fwd Byts/b Avg' 'Fwd Pkts/b Avg'\n",
      " 'Fwd Blk Rate Avg' 'Bwd Byts/b Avg' 'Bwd Pkts/b Avg' 'Bwd Blk Rate Avg'\n",
      " 'Subflow Fwd Pkts' 'Subflow Fwd Byts' 'Subflow Bwd Pkts'\n",
      " 'Subflow Bwd Byts' 'Init Fwd Win Byts' 'Init Bwd Win Byts'\n",
      " 'Fwd Act Data Pkts' 'Fwd Seg Size Min' 'Active Mean' 'Active Std'\n",
      " 'Active Max' 'Active Min' 'Idle Mean' 'Idle Std' 'Idle Max' 'Idle Min'\n",
      " 'Label']\n",
      "80\n"
     ]
    }
   ],
   "source": [
    "print(finalDf.columns.values)\n",
    "print(len(finalDf.columns.values))"
   ]
  },
  {
   "cell_type": "code",
   "execution_count": 95,
   "id": "ba419490-91f9-4447-9dbc-8bdfe5a46790",
   "metadata": {},
   "outputs": [
    {
     "data": {
      "text/plain": [
       "77"
      ]
     },
     "execution_count": 95,
     "metadata": {},
     "output_type": "execute_result"
    }
   ],
   "source": [
    "len(df.columns.values)"
   ]
  },
  {
   "cell_type": "code",
   "execution_count": 105,
   "id": "519cc40a-45e1-4224-8da6-3147d1042561",
   "metadata": {},
   "outputs": [
    {
     "name": "stdout",
     "output_type": "stream",
     "text": [
      "51\n",
      "['Unnamed: 0', 'Tot Fwd Pkts', 'Tot Bwd Pkts', 'TotLen Fwd Pkts', 'TotLen Bwd Pkts', 'Fwd Pkt Len Max', 'Fwd Pkt Len Min', 'Fwd Pkt Len Mean', 'Fwd Pkt Len Std', 'Bwd Pkt Len Max', 'Bwd Pkt Len Min', 'Bwd Pkt Len Mean', 'Bwd Pkt Len Std', 'Flow Byts/s', 'Flow Pkts/s', 'Fwd IAT Tot', 'Bwd IAT Tot', 'Fwd Header Len', 'Bwd Header Len', 'Fwd Pkts/s', 'Bwd Pkts/s', 'Pkt Len Min', 'Pkt Len Max', 'Pkt Len Mean', 'Pkt Len Std', 'Pkt Len Var', 'FIN Flag Cnt', 'SYN Flag Cnt', 'RST Flag Cnt', 'PSH Flag Cnt', 'ACK Flag Cnt', 'URG Flag Cnt', 'CWE Flag Count', 'ECE Flag Cnt', 'Pkt Size Avg', 'Fwd Seg Size Avg', 'Bwd Seg Size Avg', ' Fwd Header Length.1', 'Fwd Byts/b Avg', 'Fwd Pkts/b Avg', 'Fwd Blk Rate Avg', 'Bwd Byts/b Avg', 'Bwd Pkts/b Avg', 'Bwd Blk Rate Avg', 'Subflow Fwd Pkts', 'Subflow Fwd Byts', 'Subflow Bwd Pkts', 'Subflow Bwd Byts', 'Init Fwd Win Byts', 'Init Bwd Win Byts', 'Label']\n"
     ]
    }
   ],
   "source": [
    "test = [i for i in finalDf.columns.values.tolist() if i not in df.columns.values]\n",
    "print(len(test))\n",
    "print(test)"
   ]
  },
  {
   "cell_type": "code",
   "execution_count": 94,
   "id": "f51dd3f2-36f6-470f-8e14-3d87d0263171",
   "metadata": {},
   "outputs": [],
   "source": [
    "df = df.drop(columns=['Label','Flow ID','Src IP','Src Port','Timestamp','Protocol','Dst IP'])"
   ]
  },
  {
   "cell_type": "code",
   "execution_count": 96,
   "id": "38d138eb-692c-496b-9329-f46484dfd451",
   "metadata": {},
   "outputs": [
    {
     "data": {
      "text/plain": [
       "array(['Dst Port', 'Flow Duration', 'Total Fwd Packet',\n",
       "       'Total Bwd packets', 'Total Length of Fwd Packet',\n",
       "       'Total Length of Bwd Packet', 'Fwd Packet Length Max',\n",
       "       'Fwd Packet Length Min', 'Fwd Packet Length Mean',\n",
       "       'Fwd Packet Length Std', 'Bwd Packet Length Max',\n",
       "       'Bwd Packet Length Min', 'Bwd Packet Length Mean',\n",
       "       'Bwd Packet Length Std', 'Flow Bytes/s', 'Flow Packets/s',\n",
       "       'Flow IAT Mean', 'Flow IAT Std', 'Flow IAT Max', 'Flow IAT Min',\n",
       "       'Fwd IAT Total', 'Fwd IAT Mean', 'Fwd IAT Std', 'Fwd IAT Max',\n",
       "       'Fwd IAT Min', 'Bwd IAT Total', 'Bwd IAT Mean', 'Bwd IAT Std',\n",
       "       'Bwd IAT Max', 'Bwd IAT Min', 'Fwd PSH Flags', 'Bwd PSH Flags',\n",
       "       'Fwd URG Flags', 'Bwd URG Flags', 'Fwd Header Length',\n",
       "       'Bwd Header Length', 'Fwd Packets/s', 'Bwd Packets/s',\n",
       "       'Packet Length Min', 'Packet Length Max', 'Packet Length Mean',\n",
       "       'Packet Length Std', 'Packet Length Variance', 'FIN Flag Count',\n",
       "       'SYN Flag Count', 'RST Flag Count', 'PSH Flag Count',\n",
       "       'ACK Flag Count', 'URG Flag Count', 'CWR Flag Count',\n",
       "       'ECE Flag Count', 'Down/Up Ratio', 'Average Packet Size',\n",
       "       'Fwd Segment Size Avg', 'Bwd Segment Size Avg',\n",
       "       'Fwd Bytes/Bulk Avg', 'Fwd Packet/Bulk Avg', 'Fwd Bulk Rate Avg',\n",
       "       'Bwd Bytes/Bulk Avg', 'Bwd Packet/Bulk Avg', 'Bwd Bulk Rate Avg',\n",
       "       'Subflow Fwd Packets', 'Subflow Fwd Bytes', 'Subflow Bwd Packets',\n",
       "       'Subflow Bwd Bytes', 'FWD Init Win Bytes', 'Bwd Init Win Bytes',\n",
       "       'Fwd Act Data Pkts', 'Fwd Seg Size Min', 'Active Mean',\n",
       "       'Active Std', 'Active Max', 'Active Min', 'Idle Mean', 'Idle Std',\n",
       "       'Idle Max', 'Idle Min'], dtype=object)"
      ]
     },
     "execution_count": 96,
     "metadata": {},
     "output_type": "execute_result"
    }
   ],
   "source": [
    "df.columns.values"
   ]
  },
  {
   "cell_type": "code",
   "execution_count": 97,
   "id": "2c67e845-f28e-4ee1-86b6-b812c635dbfe",
   "metadata": {},
   "outputs": [
    {
     "name": "stdout",
     "output_type": "stream",
     "text": [
      "    Dst Port Flow Duration Total Fwd Packet Total Bwd packets  \\\n",
      "0        443        222822                8                 4   \n",
      "1        443        225227                8                 4   \n",
      "2        443        226492                8                 4   \n",
      "3        443        192076                9                 5   \n",
      "4        443        190232                8                 4   \n",
      "..       ...           ...              ...               ...   \n",
      "521    41712        213875                2                 1   \n",
      "522      443      11855318               88               228   \n",
      "523       53          3156                2                 2   \n",
      "524       53         34589                2                 2   \n",
      "525       53         38841                2                 2   \n",
      "\n",
      "    Total Length of Fwd Packet Total Length of Bwd Packet  \\\n",
      "0                        978.0                     4199.0   \n",
      "1                        978.0                     4199.0   \n",
      "2                        792.0                     4199.0   \n",
      "3                        978.0                     4199.0   \n",
      "4                        792.0                     4199.0   \n",
      "..                         ...                        ...   \n",
      "521                       31.0                       35.0   \n",
      "522                    21864.0                   175963.0   \n",
      "523                      102.0                      208.0   \n",
      "524                       60.0                      279.0   \n",
      "525                      100.0                      506.0   \n",
      "\n",
      "    Fwd Packet Length Max Fwd Packet Length Min Fwd Packet Length Mean  \\\n",
      "0                   703.0                   0.0                 122.25   \n",
      "1                   703.0                   0.0                 122.25   \n",
      "2                   517.0                   0.0                   99.0   \n",
      "3                   703.0                   0.0     108.66666666666667   \n",
      "4                   517.0                   0.0                   99.0   \n",
      "..                    ...                   ...                    ...   \n",
      "521                  31.0                   0.0                   15.5   \n",
      "522                1357.0                  31.0     248.45454545454552   \n",
      "523                  51.0                  51.0                   51.0   \n",
      "524                  30.0                  30.0                   30.0   \n",
      "525                  50.0                  50.0                   50.0   \n",
      "\n",
      "    Fwd Packet Length Std  ... Fwd Act Data Pkts Fwd Seg Size Min Active Mean  \\\n",
      "0       243.2780596061106  ...                 4               32           0   \n",
      "1       243.2780596061106  ...                 4               32           0   \n",
      "2       180.6820411662432  ...                 4               32           0   \n",
      "3      231.18553155420435  ...                 4               32           0   \n",
      "4       180.6820411662432  ...                 4               32           0   \n",
      "..                    ...  ...               ...              ...         ...   \n",
      "521    21.920310216782973  ...                 0               32           0   \n",
      "522     392.6971547915776  ...                87                8    174431.0   \n",
      "523                   0.0  ...                 1                8           0   \n",
      "524                   0.0  ...                 1                8           0   \n",
      "525                   0.0  ...                 1                8           0   \n",
      "\n",
      "    Active Std Active Max Active Min             Idle Mean  \\\n",
      "0            0          0          0  1.670982583822339E15   \n",
      "1            0          0          0  1.670982583820057E15   \n",
      "2            0          0          0  1.670982583818886E15   \n",
      "3            0          0          0  1.670982583866654E15   \n",
      "4            0          0          0  1.670982583869116E15   \n",
      "..         ...        ...        ...                   ...   \n",
      "521          0          0          0  1.670982644375093E15   \n",
      "522        0.0   174431.0   174431.0  8.354913459896055E14   \n",
      "523          0          0          0  1.670982691031121E15   \n",
      "524          0          0          0   1.67098268804976E15   \n",
      "525          0          0          0  1.670982691152324E15   \n",
      "\n",
      "                  Idle Std              Idle Max              Idle Min  \n",
      "0                      0.0  1.670982583822339E15  1.670982583822339E15  \n",
      "1                      0.0  1.670982583820057E15  1.670982583820057E15  \n",
      "2                      0.0  1.670982583818886E15  1.670982583818886E15  \n",
      "3                      0.0  1.670982583866654E15  1.670982583866654E15  \n",
      "4                      0.0  1.670982583869116E15  1.670982583869116E15  \n",
      "..                     ...                   ...                   ...  \n",
      "521                    0.0  1.670982644375093E15  1.670982644375093E15  \n",
      "522  1.1815631844752638E15  1.670982686132436E15             5846775.0  \n",
      "523                    0.0  1.670982691031121E15  1.670982691031121E15  \n",
      "524                    0.0   1.67098268804976E15   1.67098268804976E15  \n",
      "525                    0.0  1.670982691152324E15  1.670982691152324E15  \n",
      "\n",
      "[1155 rows x 77 columns]\n"
     ]
    },
    {
     "name": "stderr",
     "output_type": "stream",
     "text": [
      "/home/patryk/.local/lib/python3.10/site-packages/sklearn/base.py:409: UserWarning: X does not have valid feature names, but MinMaxScaler was fitted with feature names\n",
      "  warnings.warn(\n"
     ]
    },
    {
     "ename": "ValueError",
     "evalue": "in user code:\n\n    File \"/home/patryk/.local/lib/python3.10/site-packages/keras/engine/training.py\", line 2137, in predict_function  *\n        return step_function(self, iterator)\n    File \"/home/patryk/.local/lib/python3.10/site-packages/keras/engine/training.py\", line 2123, in step_function  **\n        outputs = model.distribute_strategy.run(run_step, args=(data,))\n    File \"/home/patryk/.local/lib/python3.10/site-packages/keras/engine/training.py\", line 2111, in run_step  **\n        outputs = model.predict_step(data)\n    File \"/home/patryk/.local/lib/python3.10/site-packages/keras/engine/training.py\", line 2079, in predict_step\n        return self(x, training=False)\n    File \"/home/patryk/.local/lib/python3.10/site-packages/keras/utils/traceback_utils.py\", line 70, in error_handler\n        raise e.with_traceback(filtered_tb) from None\n    File \"/home/patryk/.local/lib/python3.10/site-packages/keras/engine/input_spec.py\", line 295, in assert_input_compatibility\n        raise ValueError(\n\n    ValueError: Input 0 of layer \"sequential_1\" is incompatible with the layer: expected shape=(None, 79), found shape=(None, 77)\n",
     "output_type": "error",
     "traceback": [
      "\u001b[0;31m---------------------------------------------------------------------------\u001b[0m",
      "\u001b[0;31mValueError\u001b[0m                                Traceback (most recent call last)",
      "Cell \u001b[0;32mIn[97], line 9\u001b[0m\n\u001b[1;32m      6\u001b[0m fit_new_input \u001b[38;5;241m=\u001b[39m sc\u001b[38;5;241m.\u001b[39mtransform(x)\n\u001b[1;32m      8\u001b[0m \u001b[38;5;28mprint\u001b[39m(df)\n\u001b[0;32m----> 9\u001b[0m pred \u001b[38;5;241m=\u001b[39m \u001b[43msaved_model\u001b[49m\u001b[38;5;241;43m.\u001b[39;49m\u001b[43mpredict\u001b[49m\u001b[43m(\u001b[49m\u001b[43mfit_new_input\u001b[49m\u001b[43m)\u001b[49m\n\u001b[1;32m     10\u001b[0m \u001b[38;5;28mprint\u001b[39m(pred)\n\u001b[1;32m     11\u001b[0m pred_class \u001b[38;5;241m=\u001b[39m np\u001b[38;5;241m.\u001b[39margmax(pred, axis\u001b[38;5;241m=\u001b[39m\u001b[38;5;241m-\u001b[39m\u001b[38;5;241m1\u001b[39m)\n",
      "File \u001b[0;32m~/.local/lib/python3.10/site-packages/keras/utils/traceback_utils.py:70\u001b[0m, in \u001b[0;36mfilter_traceback.<locals>.error_handler\u001b[0;34m(*args, **kwargs)\u001b[0m\n\u001b[1;32m     67\u001b[0m     filtered_tb \u001b[38;5;241m=\u001b[39m _process_traceback_frames(e\u001b[38;5;241m.\u001b[39m__traceback__)\n\u001b[1;32m     68\u001b[0m     \u001b[38;5;66;03m# To get the full stack trace, call:\u001b[39;00m\n\u001b[1;32m     69\u001b[0m     \u001b[38;5;66;03m# `tf.debugging.disable_traceback_filtering()`\u001b[39;00m\n\u001b[0;32m---> 70\u001b[0m     \u001b[38;5;28;01mraise\u001b[39;00m e\u001b[38;5;241m.\u001b[39mwith_traceback(filtered_tb) \u001b[38;5;28;01mfrom\u001b[39;00m \u001b[38;5;28mNone\u001b[39m\n\u001b[1;32m     71\u001b[0m \u001b[38;5;28;01mfinally\u001b[39;00m:\n\u001b[1;32m     72\u001b[0m     \u001b[38;5;28;01mdel\u001b[39;00m filtered_tb\n",
      "File \u001b[0;32m/tmp/__autograph_generated_file76swdjxv.py:15\u001b[0m, in \u001b[0;36mouter_factory.<locals>.inner_factory.<locals>.tf__predict_function\u001b[0;34m(iterator)\u001b[0m\n\u001b[1;32m     13\u001b[0m \u001b[38;5;28;01mtry\u001b[39;00m:\n\u001b[1;32m     14\u001b[0m     do_return \u001b[38;5;241m=\u001b[39m \u001b[38;5;28;01mTrue\u001b[39;00m\n\u001b[0;32m---> 15\u001b[0m     retval_ \u001b[38;5;241m=\u001b[39m ag__\u001b[38;5;241m.\u001b[39mconverted_call(ag__\u001b[38;5;241m.\u001b[39mld(step_function), (ag__\u001b[38;5;241m.\u001b[39mld(\u001b[38;5;28mself\u001b[39m), ag__\u001b[38;5;241m.\u001b[39mld(iterator)), \u001b[38;5;28;01mNone\u001b[39;00m, fscope)\n\u001b[1;32m     16\u001b[0m \u001b[38;5;28;01mexcept\u001b[39;00m:\n\u001b[1;32m     17\u001b[0m     do_return \u001b[38;5;241m=\u001b[39m \u001b[38;5;28;01mFalse\u001b[39;00m\n",
      "\u001b[0;31mValueError\u001b[0m: in user code:\n\n    File \"/home/patryk/.local/lib/python3.10/site-packages/keras/engine/training.py\", line 2137, in predict_function  *\n        return step_function(self, iterator)\n    File \"/home/patryk/.local/lib/python3.10/site-packages/keras/engine/training.py\", line 2123, in step_function  **\n        outputs = model.distribute_strategy.run(run_step, args=(data,))\n    File \"/home/patryk/.local/lib/python3.10/site-packages/keras/engine/training.py\", line 2111, in run_step  **\n        outputs = model.predict_step(data)\n    File \"/home/patryk/.local/lib/python3.10/site-packages/keras/engine/training.py\", line 2079, in predict_step\n        return self(x, training=False)\n    File \"/home/patryk/.local/lib/python3.10/site-packages/keras/utils/traceback_utils.py\", line 70, in error_handler\n        raise e.with_traceback(filtered_tb) from None\n    File \"/home/patryk/.local/lib/python3.10/site-packages/keras/engine/input_spec.py\", line 295, in assert_input_compatibility\n        raise ValueError(\n\n    ValueError: Input 0 of layer \"sequential_1\" is incompatible with the layer: expected shape=(None, 79), found shape=(None, 77)\n"
     ]
    }
   ],
   "source": [
    "saved_model = keras.models.load_model(\"mymodel.h5\")\n",
    "\n",
    "sc = MinMaxScaler()\n",
    "x = sc.fit_transform(df)\n",
    "\n",
    "fit_new_input = sc.transform(x)\n",
    "\n",
    "print(df)\n",
    "pred = saved_model.predict(fit_new_input)\n",
    "print(pred)\n",
    "pred_class = np.argmax(pred, axis=-1)\n",
    "print(pred_class)\n",
    "\n",
    "predict = label_encoder.inverse_transform(pred_class)\n",
    "predict"
   ]
  },
  {
   "cell_type": "code",
   "execution_count": 59,
   "id": "69a40626-7c79-4eb3-af60-14829ae9adb0",
   "metadata": {},
   "outputs": [
    {
     "data": {
      "text/plain": [
       "(1155, 29217)"
      ]
     },
     "execution_count": 59,
     "metadata": {},
     "output_type": "execute_result"
    }
   ],
   "source": [
    "fit_new_input.shape"
   ]
  },
  {
   "cell_type": "code",
   "execution_count": 36,
   "id": "f29729c9-5d8a-44f6-98ba-a668187a31b1",
   "metadata": {},
   "outputs": [
    {
     "name": "stdout",
     "output_type": "stream",
     "text": [
      "Model: \"sequential_1\"\n",
      "_________________________________________________________________\n",
      " Layer (type)                Output Shape              Param #   \n",
      "=================================================================\n",
      " dense_3 (Dense)             (None, 32)                2560      \n",
      "                                                                 \n",
      " dense_4 (Dense)             (None, 16)                528       \n",
      "                                                                 \n",
      " dense_5 (Dense)             (None, 15)                255       \n",
      "                                                                 \n",
      "=================================================================\n",
      "Total params: 3,343\n",
      "Trainable params: 3,343\n",
      "Non-trainable params: 0\n",
      "_________________________________________________________________\n"
     ]
    }
   ],
   "source": [
    "saved_model.summary()"
   ]
  },
  {
   "cell_type": "code",
   "execution_count": null,
   "id": "1c3e87fb-a583-46a8-b2ea-1f40b53220e8",
   "metadata": {},
   "outputs": [],
   "source": []
  }
 ],
 "metadata": {
  "kernelspec": {
   "display_name": "Python 3 (ipykernel)",
   "language": "python",
   "name": "python3"
  },
  "language_info": {
   "codemirror_mode": {
    "name": "ipython",
    "version": 3
   },
   "file_extension": ".py",
   "mimetype": "text/x-python",
   "name": "python",
   "nbconvert_exporter": "python",
   "pygments_lexer": "ipython3",
   "version": "3.10.5"
  }
 },
 "nbformat": 4,
 "nbformat_minor": 5
}
